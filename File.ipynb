{
  "cells": [
    {
      "cell_type": "markdown",
      "metadata": {
        "id": "view-in-github",
        "colab_type": "text"
      },
      "source": [
        "<a href=\"https://colab.research.google.com/github/Ctrl408/neurogym/blob/master/File.ipynb\" target=\"_parent\"><img src=\"https://colab.research.google.com/assets/colab-badge.svg\" alt=\"Open In Colab\"/></a>"
      ]
    },
    {
      "cell_type": "code",
      "execution_count": null,
      "metadata": {
        "colab": {
          "base_uri": "https://localhost:8080/"
        },
        "id": "0rSaaHwayppd",
        "outputId": "4dfcbbdf-2287-4ebb-9a4e-0e6437d4d17a"
      },
      "outputs": [
        {
          "output_type": "stream",
          "name": "stdout",
          "text": [
            "Cloning into 'neurogym'...\n",
            "remote: Enumerating objects: 10940, done.\u001b[K\n",
            "remote: Counting objects: 100% (113/113), done.\u001b[K\n",
            "remote: Compressing objects: 100% (67/67), done.\u001b[K\n",
            "remote: Total 10940 (delta 59), reused 74 (delta 25), pack-reused 10827\u001b[K\n",
            "Receiving objects: 100% (10940/10940), 8.16 MiB | 5.19 MiB/s, done.\n",
            "Resolving deltas: 100% (8245/8245), done.\n",
            "/content/neurogym\n"
          ]
        },
        {
          "output_type": "stream",
          "name": "stderr",
          "text": [
            "/usr/local/lib/python3.7/dist-packages/gym/envs/registration.py:422: UserWarning: \u001b[33mWARN: The `registry.all` method is deprecated. Please use `registry.values` instead.\u001b[0m\n",
            "  \"The `registry.all` method is deprecated. Please use `registry.values` instead.\"\n"
          ]
        }
      ],
      "source": [
        "import numpy as np\n",
        "from matplotlib import pyplot as plt\n",
        "from torchvision import datasets\n",
        "import gym\n",
        "import torch\n",
        "from torch import nn\n",
        "from torch import optim\n",
        "import torch.nn.functional as F\n",
        "\n",
        "!git clone https://github.com/gyyang/neurogym.git  # Install neurogym\n",
        "%cd neurogym/\n",
        "import neurogym as ngym \n",
        "from neurogym.core import TrialEnv\n",
        "\n",
        "from torchvision import transforms\n",
        "\n",
        "if torch.cuda.is_available():\n",
        "  torch.cuda\n",
        "  device=\"cuda\"\n",
        "else:device=\"cpu\""
      ]
    },
    {
      "cell_type": "markdown",
      "metadata": {
        "id": "hi3MNYJc35mr"
      },
      "source": [
        "###Training CNN on MNIST for Classification"
      ]
    },
    {
      "cell_type": "code",
      "execution_count": null,
      "metadata": {
        "colab": {
          "base_uri": "https://localhost:8080/",
          "height": 872,
          "referenced_widgets": [
            "e293c55f8d2f4c448270c89457699044",
            "a23052ae4cf84ac08d9a40670eb0aa9c",
            "41caf795deda4e439e462ec7b8862a22",
            "4be7263bf5e4434bb5801a76db1ce9a2",
            "ed1fa8992f8a48dfa5a4f79ca91d783d",
            "9870e4ee34d440efb855a8d9f8fb235f",
            "77077b7837634c5c96b23885153b253b",
            "945442065bc74ea7bafcae54b4c59cab",
            "1dd4fb1419954d74a601517c452e6533",
            "6eacd562bcee4abf807b62efa38160ee",
            "57042dc2bb2a4e309bc07e84629c48b5",
            "d9205e371d9d4891953c840d63328b65",
            "4e4a1e41c49c403a8b1d576c913a8b02",
            "d34da2430fc24eafb35589f11909a1ff",
            "4e63b29bcf6d4193b8f9203cadb598f8",
            "b99fbc68685b437e83a2d50236dc2811",
            "96ddfcc15f2b4355930f63449902d738",
            "d961f84a9e7b4b86a680c322b0a16bbb",
            "b28f44abb617458782f2d3c7f1e7a30e",
            "c15d9f2bc01f4d13b5dc94f04ca20b3c",
            "b9973335eb35490a912f0272d37d5d0c",
            "36c12a1f753648259f9c89c8e1370a36",
            "f087e9f303c144fd957a7df67a1399f0",
            "873fd54dbaf94190af3ad9f3edffa09e",
            "d94317bf9bc64e11ab5e33db4a7081a4",
            "8f98a22888c14974a6b93155d8ef36f4",
            "b75a94b985ac4d96a518471e2d5cf592",
            "703c602fbbb84d33bfdd2679fa1b4e7b",
            "724d45c8fb77485fb38c3fb0e1fd37a7",
            "7c87690280c943e0bfc290cb294675d1",
            "c427837dadd646278c187554b8d64a9a",
            "96b7132c81e641c4830285b19df2c39c",
            "2110733687a54195b5dfe8fb1accf97d",
            "1a5226c4fd764172b6b566e084ded32e",
            "f20ea5252d35419bad663fa7eb46ece3",
            "a13811f0f55041b282d121113df99211",
            "1dd5405bd8954036b362a3cfe99fa839",
            "6f516d0a55004dc7bdcd58ed299eae5b",
            "622d814ef1164b9daea40f379716d9aa",
            "04bbfda3f95749cd96fe0c00bc0ed703",
            "54d06affe0c14c408889fd5a6cb60180",
            "fb2c5c4086e44d2ea898abf8d611af06",
            "68008f72bf2242988ff81c5d5a79dcac",
            "2112e05f7dfa4e828a3d0b2219b8f754"
          ]
        },
        "id": "uViZ2HwpyzjK",
        "outputId": "4caba166-d6de-4af7-9871-ffe3a80f9e09"
      },
      "outputs": [
        {
          "output_type": "stream",
          "name": "stdout",
          "text": [
            "Downloading http://yann.lecun.com/exdb/mnist/train-images-idx3-ubyte.gz\n",
            "Downloading http://yann.lecun.com/exdb/mnist/train-images-idx3-ubyte.gz to DATA_MNIST/MNIST/raw/train-images-idx3-ubyte.gz\n"
          ]
        },
        {
          "output_type": "display_data",
          "data": {
            "text/plain": [
              "  0%|          | 0/9912422 [00:00<?, ?it/s]"
            ],
            "application/vnd.jupyter.widget-view+json": {
              "version_major": 2,
              "version_minor": 0,
              "model_id": "e293c55f8d2f4c448270c89457699044"
            }
          },
          "metadata": {}
        },
        {
          "output_type": "stream",
          "name": "stdout",
          "text": [
            "Extracting DATA_MNIST/MNIST/raw/train-images-idx3-ubyte.gz to DATA_MNIST/MNIST/raw\n",
            "\n",
            "Downloading http://yann.lecun.com/exdb/mnist/train-labels-idx1-ubyte.gz\n",
            "Downloading http://yann.lecun.com/exdb/mnist/train-labels-idx1-ubyte.gz to DATA_MNIST/MNIST/raw/train-labels-idx1-ubyte.gz\n"
          ]
        },
        {
          "output_type": "display_data",
          "data": {
            "text/plain": [
              "  0%|          | 0/28881 [00:00<?, ?it/s]"
            ],
            "application/vnd.jupyter.widget-view+json": {
              "version_major": 2,
              "version_minor": 0,
              "model_id": "d9205e371d9d4891953c840d63328b65"
            }
          },
          "metadata": {}
        },
        {
          "output_type": "stream",
          "name": "stdout",
          "text": [
            "Extracting DATA_MNIST/MNIST/raw/train-labels-idx1-ubyte.gz to DATA_MNIST/MNIST/raw\n",
            "\n",
            "Downloading http://yann.lecun.com/exdb/mnist/t10k-images-idx3-ubyte.gz\n",
            "Downloading http://yann.lecun.com/exdb/mnist/t10k-images-idx3-ubyte.gz to DATA_MNIST/MNIST/raw/t10k-images-idx3-ubyte.gz\n"
          ]
        },
        {
          "output_type": "display_data",
          "data": {
            "text/plain": [
              "  0%|          | 0/1648877 [00:00<?, ?it/s]"
            ],
            "application/vnd.jupyter.widget-view+json": {
              "version_major": 2,
              "version_minor": 0,
              "model_id": "f087e9f303c144fd957a7df67a1399f0"
            }
          },
          "metadata": {}
        },
        {
          "output_type": "stream",
          "name": "stdout",
          "text": [
            "Extracting DATA_MNIST/MNIST/raw/t10k-images-idx3-ubyte.gz to DATA_MNIST/MNIST/raw\n",
            "\n",
            "Downloading http://yann.lecun.com/exdb/mnist/t10k-labels-idx1-ubyte.gz\n",
            "Downloading http://yann.lecun.com/exdb/mnist/t10k-labels-idx1-ubyte.gz to DATA_MNIST/MNIST/raw/t10k-labels-idx1-ubyte.gz\n"
          ]
        },
        {
          "output_type": "display_data",
          "data": {
            "text/plain": [
              "  0%|          | 0/4542 [00:00<?, ?it/s]"
            ],
            "application/vnd.jupyter.widget-view+json": {
              "version_major": 2,
              "version_minor": 0,
              "model_id": "1a5226c4fd764172b6b566e084ded32e"
            }
          },
          "metadata": {}
        },
        {
          "output_type": "stream",
          "name": "stdout",
          "text": [
            "Extracting DATA_MNIST/MNIST/raw/t10k-labels-idx1-ubyte.gz to DATA_MNIST/MNIST/raw\n",
            "\n"
          ]
        },
        {
          "output_type": "stream",
          "name": "stderr",
          "text": [
            "WARNING:matplotlib.font_manager:findfont: Font family ['arial'] not found. Falling back to DejaVu Sans.\n"
          ]
        },
        {
          "output_type": "display_data",
          "data": {
            "text/plain": [
              "<Figure size 216x216 with 16 Axes>"
            ],
            "image/png": "[encoded data removed]"
          },
          "metadata": {}
        }
      ],
      "source": [
        "transform = transforms.Compose([transforms.ToTensor()])\n",
        "\n",
        "traindata= datasets.MNIST('DATA_MNIST/', download=True, train=True, transform=transform)\n",
        "trainloader = torch.utils.data.DataLoader(traindata, batch_size=64, shuffle=True)\n",
        "\n",
        "testdata= datasets.MNIST('DATA_MNIST/', download=True, train=False, transform=transform)\n",
        "validationloader = torch.utils.data.DataLoader(testdata, batch_size=64, shuffle=True)\n",
        "\n",
        "traindata = enumerate(trainloader)\n",
        "batch_idx, (images, labels) = next(traindata)\n",
        "\n",
        "testdata = enumerate(validationloader)\n",
        "batch_idx_t, (images_t, labels_t) = next(testdata)\n",
        "\n",
        "fig = plt.figure(figsize=(3,3))\n",
        "for i in range(16):\n",
        "\n",
        "    plt.subplot(4,4,i+1)\n",
        "    plt.tight_layout()\n",
        "    plt.imshow(images[i][0], cmap='viridis')\n",
        "    plt.yticks([])\n",
        "    plt.xticks([])\n",
        "fig.subplots_adjust(wspace=0.6, hspace=0.01)"
      ]
    },
    {
      "cell_type": "code",
      "execution_count": null,
      "metadata": {
        "colab": {
          "base_uri": "https://localhost:8080/"
        },
        "id": "MYswKbdG4TWL",
        "outputId": "ed949af1-8e0f-48c3-cf1f-50f5ff74fcef"
      },
      "outputs": [
        {
          "output_type": "execute_result",
          "data": {
            "text/plain": [
              "ConvNet(\n",
              "  (layers): Sequential(\n",
              "    (0): Conv2d(1, 12, kernel_size=(3, 3), stride=(1, 1), padding=(1, 1))\n",
              "    (1): ReLU()\n",
              "    (2): MaxPool2d(kernel_size=2, stride=2, padding=0, dilation=1, ceil_mode=False)\n",
              "    (3): Conv2d(12, 24, kernel_size=(3, 3), stride=(1, 1), padding=(1, 1))\n",
              "    (4): ReLU()\n",
              "    (5): MaxPool2d(kernel_size=2, stride=2, padding=0, dilation=1, ceil_mode=False)\n",
              "  )\n",
              "  (linear_layers): Sequential(\n",
              "    (0): Linear(in_features=1176, out_features=64, bias=True)\n",
              "    (1): ReLU()\n",
              "    (2): Dropout(p=0.2, inplace=False)\n",
              "    (3): Linear(in_features=64, out_features=10, bias=True)\n",
              "  )\n",
              ")"
            ]
          },
          "metadata": {},
          "execution_count": 3
        }
      ],
      "source": [
        "\n",
        "class ConvNet(nn.Module):\n",
        "\n",
        "    def __init__(self):\n",
        "        super(ConvNet, self).__init__()\n",
        "       \n",
        "        self.layers = nn.Sequential(\n",
        "                \n",
        "            nn.Conv2d(1,12,3,1,1),     #in_channels=1, out_channels=12, kernel_size=3, padding=1, stride=1), # (N, 1, 28, 28) \n",
        "            nn.ReLU(),    \n",
        "            nn.MaxPool2d(kernel_size=2),                            \n",
        "            nn.Conv2d(12,24,3,1,1), #in_channels=12, out_channels=24, kernel_size=3, padding=1, stride=1),\n",
        "            nn.ReLU(),           \n",
        "            nn.MaxPool2d(kernel_size=2))\n",
        "\n",
        "        self.linear_layers = nn.Sequential(          \n",
        "            nn.Linear(in_features=24*7*7, out_features=64),          \n",
        "            nn.ReLU(),\n",
        "            nn.Dropout(p=0.2), \n",
        "            nn.Linear(in_features=64, out_features=10) \n",
        "        )\n",
        "\n",
        "    def forward(self, x):\n",
        "        x = self.layers(x) \n",
        "        x = x.view(x.size(0), -1)       \n",
        "        x = self.linear_layers(x)\n",
        "        return x\n",
        "\n",
        "ConvNet= ConvNet()\n",
        "ConvNet.to(device)"
      ]
    },
    {
      "cell_type": "code",
      "execution_count": null,
      "metadata": {
        "id": "pmiF0yg880t1",
        "colab": {
          "base_uri": "https://localhost:8080/"
        },
        "outputId": "e925b9e5-96f5-418d-b05a-848be9792a8b"
      },
      "outputs": [
        {
          "output_type": "stream",
          "name": "stdout",
          "text": [
            "finished training\n"
          ]
        }
      ],
      "source": [
        "\n",
        "train_loss, val_loss = [], []\n",
        "accuracy_total_train, accuracy_total_val = [], []\n",
        "\n",
        "optimizer = optim.SGD(ConvNet.parameters(), lr=0.01)\n",
        "criterion = nn.CrossEntropyLoss()\n",
        "\n",
        "for epoch in range(20):\n",
        "      \n",
        "    total_train_loss = 0\n",
        "    total_val_loss = 0\n",
        "\n",
        "    ConvNet.train()\n",
        "    \n",
        "    total = 0\n",
        "    # training \n",
        "    for idx, (image, label) in enumerate(trainloader):\n",
        "\n",
        "        image, label = image.to(device), label.to(device)\n",
        "\n",
        "        optimizer.zero_grad()\n",
        "\n",
        "        pred =ConvNet(image)\n",
        "\n",
        "        loss = criterion(pred, label)\n",
        "        total_train_loss += loss.item()\n",
        "\n",
        "        loss.backward()\n",
        "        optimizer.step()\n",
        "\n",
        "        pred = torch.nn.functional.softmax(pred, dim=1)\n",
        "        for i, p in enumerate(pred):\n",
        "            if label[i] == torch.max(p.data, 0)[1]:\n",
        "                total = total + 1\n",
        "print(\"finished training\")"
      ]
    },
    {
      "cell_type": "code",
      "execution_count": null,
      "metadata": {
        "id": "he9JZ21u_Idh",
        "colab": {
          "base_uri": "https://localhost:8080/",
          "height": 170
        },
        "outputId": "be346db6-4ae9-4069-b820-7f40ec5f1922"
      },
      "outputs": [
        {
          "output_type": "stream",
          "name": "stdout",
          "text": [
            "5\n"
          ]
        },
        {
          "output_type": "display_data",
          "data": {
            "text/plain": [
              "<Figure size 144x144 with 1 Axes>"
            ],
            "image/png": "[encoded data removed]"
          },
          "metadata": {
            "needs_background": "light"
          }
        }
      ],
      "source": [
        "\n",
        "def Test_ConvNet():\n",
        "  img = images[12]\n",
        "  img = img.to(device)\n",
        "  img = img.view(-1, 1, 28, 28)\n",
        "  fig=plt.figure(figsize=(2,2))\n",
        "  plt.imshow(images[12][0], cmap='viridis')\n",
        " \n",
        "  with torch.no_grad():\n",
        "    logits = ConvNet.forward(img)\n",
        "    Val= torch.exp(logits)\n",
        "    Val=Val.cpu()\n",
        "    probabilities = list(Val.numpy()[0])\n",
        "    label = probabilities.index(max(probabilities))\n",
        "    print(label)\n",
        "\n",
        "Test_ConvNet()"
      ]
    },
    {
      "cell_type": "markdown",
      "metadata": {
        "id": "pZU3b8gtpp1t"
      },
      "source": [
        "####RNN and Cognitive Neuroscience Task\n",
        "\n",
        "Modified neurogym sample environment."
      ]
    },
    {
      "cell_type": "code",
      "execution_count": null,
      "metadata": {
        "id": "NmWys6eSlsF5",
        "colab": {
          "base_uri": "https://localhost:8080/"
        },
        "outputId": "44b405ed-22dd-4dc4-be82-b122b3761947"
      },
      "outputs": [
        {
          "output_type": "stream",
          "name": "stdout",
          "text": [
            "[2.17344789]\n"
          ]
        }
      ],
      "source": [
        "\n",
        "from neurogym.core import TrialEnv \n",
        "class Decision(TrialEnv):\n",
        "    def __init__(self, dt=100, timing=None):\n",
        "        super().__init__(dt=dt)  \n",
        "        self.timing = {'stimulus': 500, 'decision': 500}\n",
        "\n",
        "        if timing:\n",
        "            self.timing.update(timing)\n",
        "        \n",
        "        self.observation_space = gym.spaces.Box(low=-1.0, high=9.0, shape=(1,))\n",
        "        self.action_space = gym.spaces.Discrete(2)\n",
        "\n",
        "    def new_trial(self,truth,action=None):\n",
        "        \n",
        "        periods = ['stimulus', 'decision']        \n",
        "        self.add_period(periods)\n",
        "\n",
        "        stimulus = np.random.uniform((truth-1), truth, size=(1,))\n",
        "        \n",
        "        trial = dict()\n",
        "        trial['stimulus'] = stimulus\n",
        "        # Ground-truth is 1 if stimulus > 0,\n",
        "        #2 if >1, 3 if >2 etc...\n",
        "        trial['ground_truth']=truth       \n",
        "        \n",
        "        if self.in_period('stimulus'):\n",
        "            reward = 0\n",
        "        else:       \n",
        "            reward = (action == self.trial['ground_truth']) * 1.0\n",
        "        \n",
        "        done =None\n",
        "        \n",
        "        info = {'new_trial': False}\n",
        "        return  stimulus,truth,reward, done, info\n",
        "Decision=Decision(dt=100)\n",
        "#Test Decision \n",
        "truth=3\n",
        "import numpy as np \n",
        "stimulus = np.random.uniform((truth-1), truth, size=(1,))\n",
        "print(stimulus)\n",
        "\n",
        "stimulus=[]\n",
        "labels=[]"
      ]
    },
    {
      "cell_type": "code",
      "execution_count": null,
      "metadata": {
        "id": "eg9NSLlDmGOI"
      },
      "outputs": [],
      "source": [
        "\n",
        "class RNN(nn.Module):\n",
        "    def __init__(self, input_size, hidden_size, output_size):\n",
        "        super(RNN, self).__init__()\n",
        "        self.lstm = nn.LSTM(1, hidden_size)\n",
        "        self.linear = nn.Linear(hidden_size, output_size)\n",
        "        self.softmax = nn.LogSoftmax(dim=1)\n",
        "    def forward(self, x):\n",
        "        out, hidden = self.lstm(x)\n",
        "        x = self.linear(out)\n",
        "        return x, out\n",
        "net = RNN(input_size=1,\n",
        "          hidden_size=10,\n",
        "          output_size=1)\n",
        "net = net.to(device)"
      ]
    },
    {
      "cell_type": "code",
      "execution_count": null,
      "metadata": {
        "id": "i_ML-stg-0-y",
        "colab": {
          "base_uri": "https://localhost:8080/"
        },
        "outputId": "96ba949e-748d-4e91-938a-3a677127d08b"
      },
      "outputs": [
        {
          "output_type": "stream",
          "name": "stderr",
          "text": [
            "/usr/local/lib/python3.7/dist-packages/ipykernel_launcher.py:27: UserWarning: Creating a tensor from a list of numpy.ndarrays is extremely slow. Please consider converting the list to a single numpy.ndarray with numpy.array() before converting to a tensor. (Triggered internally at  ../torch/csrc/utils/tensor_new.cpp:201.)\n"
          ]
        },
        {
          "output_type": "stream",
          "name": "stdout",
          "text": [
            "over\n"
          ]
        }
      ],
      "source": [
        "\n",
        "#Data\n",
        "stimulus=[]\n",
        "labels=[]\n",
        "\n",
        "for idx, (image, label) in enumerate(trainloader):\n",
        "   \n",
        "    label= label.cpu().detach().numpy()\n",
        "    for n in label:\n",
        "      val,val1,_,_,_=Decision.new_trial(truth=n)\n",
        "      stimulus.append(val)\n",
        "      labels.append(val1)\n",
        "\n",
        "stimulus=[stimulus[i:i + 600] for i in range(0, len(stimulus), 600)]\n",
        "labels=[labels[i:i + 600] for i in range(0, len(labels), 600)]\n",
        "\n",
        "#train\n",
        "\n",
        "optimizer = torch.optim.Adam(net.parameters(), lr=0.05)\n",
        "\n",
        "a=[100,200,400,500,600,700]\n",
        "\n",
        "loses=[]\n",
        "for i in range(100):\n",
        "  for img,lbl in zip(stimulus,labels):\n",
        "   \n",
        "    optimizer.zero_grad()\n",
        "    img=torch.tensor(img,dtype=torch.float32)\n",
        "    img=img.to(device)\n",
        "    lbl=torch.tensor(lbl,dtype=torch.long)\n",
        "    lbl=lbl.to(device)\n",
        "    _,pred=net(img)\n",
        "\n",
        "    Criterion=nn.CrossEntropyLoss()  \n",
        "    loss=Criterion((pred),lbl)\n",
        "    if i in a:\n",
        "      print(loss)\n",
        "    loses.append(loss)\n",
        "\n",
        "    loss.backward()\n",
        "    optimizer.step()\n",
        "\n",
        "    pred1=[]\n",
        "\n",
        "print(\"over\")"
      ]
    },
    {
      "cell_type": "markdown",
      "source": [
        "## Activity"
      ],
      "metadata": {
        "id": "0MEEJ-sfa4uu"
      }
    },
    {
      "cell_type": "code",
      "source": [
        "val=[]\n",
        "for i in loses:\n",
        "  i=i.cpu()\n",
        "  i=i.detach().numpy()\n",
        "  val.append(i)\n",
        "plt.title(\"RNN Loss\")\n",
        "plt.plot(val)"
      ],
      "metadata": {
        "colab": {
          "base_uri": "https://localhost:8080/",
          "height": 298
        },
        "id": "Vd_tMQmbY5r3",
        "outputId": "55cc238c-2211-425f-d1a7-8ddef2bfc47a"
      },
      "execution_count": null,
      "outputs": [
        {
          "output_type": "execute_result",
          "data": {
            "text/plain": [
              "[<matplotlib.lines.Line2D at 0x7f80720344d0>]"
            ]
          },
          "metadata": {},
          "execution_count": 9
        },
        {
          "output_type": "stream",
          "name": "stderr",
          "text": [
            "WARNING:matplotlib.font_manager:findfont: Font family ['arial'] not found. Falling back to DejaVu Sans.\n"
          ]
        },
        {
          "output_type": "display_data",
          "data": {
            "text/plain": [
              "<Figure size 432x288 with 1 Axes>"
            ],
            "image/png": "[encoded data removed]"
          },
          "metadata": {
            "needs_background": "light"
          }
        }
      ]
    },
    {
      "cell_type": "markdown",
      "source": [
        "#####Forward Pass <br>\n",
        "<img src=' https://drive.google.com/uc?id=1_Wxh1VQt7RNCXuWbnKq20SA5vKoJkW_K' height=\"150\" >"
      ],
      "metadata": {
        "id": "saT3x3prur4W"
      }
    },
    {
      "cell_type": "code",
      "source": [
        "\n",
        "#Test Data\n",
        "\n",
        "stimulus_t=[]\n",
        "labels_t=[]\n",
        "rewards=[]\n",
        "original_image=[]\n",
        "original_label=[]\n",
        "CNN_predictions=[]\n",
        "RNN_predictions=[]\n",
        "\n",
        "for idx, (image_t, label_t) in enumerate(validationloader):\n",
        "    label_a=[]   \n",
        "    image_t=image_t.to(device)\n",
        "    for n,z in zip(image_t,label_t):\n",
        "      original_label.append(z)\n",
        "      original_image.append((n.cpu()).detach().numpy())\n",
        "      n = n.view(-1, 1, 28, 28)\n",
        "      with torch.no_grad():\n",
        "        logits = ConvNet.forward(n)    \n",
        "      Val= torch.exp(logits)\n",
        "      Val=Val.cpu()\n",
        "      probabilities = list(Val.numpy()[0])\n",
        "      label = probabilities.index(max(probabilities))   \n",
        "      label_a.append(label) \n",
        "      CNN_predictions.append(label)\n",
        "    \n",
        "    for n in label_a:\n",
        "      action=np.random.choice(9, size=None)\n",
        "      val,val1,_,_,_=Decision.new_trial(truth=n,action=action)\n",
        "      stimulus_t.append(val)\n",
        "      labels_t.append(val1)           \n",
        "\n",
        "stimulus=[stimulus_t[i:i + 600] for i in range(0, len(stimulus_t), 600)]\n",
        "labels=[labels_t[i:i + 600] for i in range(0, len(labels_t), 600)]\n",
        "\n",
        "with torch.no_grad():\n",
        "\n",
        "  for i in stimulus:\n",
        "    _,val=net.forward(torch.tensor(i,dtype=torch.float).to(device))\n",
        "\n",
        "    for x in (val):\n",
        "      \n",
        "      val_a=(torch.exp(x)).cpu()\n",
        "      probabilities = list((val_a.detach().numpy()))\n",
        "      pred = probabilities.index(max(probabilities))\n",
        "      RNN_predictions.append(pred)"
      ],
      "metadata": {
        "id": "TdTeEyJr9gsV"
      },
      "execution_count": null,
      "outputs": []
    },
    {
      "cell_type": "code",
      "source": [
        "fig = plt.figure(figsize=(3,3))\n",
        "for i in range(20):\n",
        "    ax=plt.subplot(5,4,i+1)\n",
        "    plt.tight_layout()\n",
        "    plt.imshow(original_image[i][0], cmap='viridis')\n",
        "    plt.yticks([])\n",
        "    ax.set_aspect(\"equal\")\n",
        "    plt.xticks([])\n",
        "fig.subplots_adjust(wspace=0.6, hspace=0.01)\n",
        "print(\"\")\n",
        "for i in range(20):\n",
        "  print(\"RNN\",((RNN_predictions)[i]),\"CNN\",(CNN_predictions)[i],\"Ground Truth\",(((original_label)[i]).cpu()).detach().numpy())\n",
        "print(\"\")"
      ],
      "metadata": {
        "colab": {
          "base_uri": "https://localhost:8080/",
          "height": 596
        },
        "id": "DypX8AZ-Oly6",
        "outputId": "97867d5d-6d1c-4833-9175-f655945edbdd"
      },
      "execution_count": null,
      "outputs": [
        {
          "output_type": "stream",
          "name": "stdout",
          "text": [
            "\n",
            "RNN 3 CNN 6 Ground Truth 6\n",
            "RNN 4 CNN 4 Ground Truth 4\n",
            "RNN 7 CNN 7 Ground Truth 7\n",
            "RNN 1 CNN 1 Ground Truth 1\n",
            "RNN 4 CNN 4 Ground Truth 4\n",
            "RNN 3 CNN 6 Ground Truth 6\n",
            "RNN 7 CNN 7 Ground Truth 7\n",
            "RNN 2 CNN 2 Ground Truth 2\n",
            "RNN 4 CNN 4 Ground Truth 4\n",
            "RNN 7 CNN 7 Ground Truth 7\n",
            "RNN 1 CNN 1 Ground Truth 1\n",
            "RNN 7 CNN 9 Ground Truth 9\n",
            "RNN 2 CNN 2 Ground Truth 2\n",
            "RNN 0 CNN 0 Ground Truth 0\n",
            "RNN 4 CNN 4 Ground Truth 4\n",
            "RNN 7 CNN 7 Ground Truth 7\n",
            "RNN 2 CNN 2 Ground Truth 2\n",
            "RNN 1 CNN 1 Ground Truth 1\n",
            "RNN 4 CNN 5 Ground Truth 5\n",
            "RNN 7 CNN 9 Ground Truth 9\n",
            "\n"
          ]
        },
        {
          "output_type": "display_data",
          "data": {
            "text/plain": [
              "<Figure size 216x216 with 20 Axes>"
            ],
            "image/png": "[encoded data removed]"
          },
          "metadata": {}
        }
      ]
    },
    {
      "cell_type": "code",
      "source": [
        "plt.figure()\n",
        "plt.title(\"Ground Truth,Stimulus,Action\")\n",
        "plt.plot(labels_t[0:100])\n",
        "plt.plot(stimulus_t[0:100])\n",
        "plt.plot(RNN_predictions[0:100])"
      ],
      "metadata": {
        "colab": {
          "base_uri": "https://localhost:8080/",
          "height": 282
        },
        "id": "lnVZImt2OdwM",
        "outputId": "bad9c7f3-a23b-4e5d-8de0-2b8a44582fab"
      },
      "execution_count": null,
      "outputs": [
        {
          "output_type": "execute_result",
          "data": {
            "text/plain": [
              "[<matplotlib.lines.Line2D at 0x7f80726e3cd0>]"
            ]
          },
          "metadata": {},
          "execution_count": 12
        },
        {
          "output_type": "display_data",
          "data": {
            "text/plain": [
              "<Figure size 432x288 with 1 Axes>"
            ],
            "image/png": "[encoded data removed]"
          },
          "metadata": {
            "needs_background": "light"
          }
        }
      ]
    }
  ],
  "metadata": {
    "accelerator": "GPU",
    "colab": {
      "collapsed_sections": [],
      "provenance": [],
      "include_colab_link": true
    },
    "gpuClass": "standard",
    "kernelspec": {
      "display_name": "Python 3",
      "name": "python3"
    },
    "language_info": {
      "name": "python"
    },
    "widgets": {
      "application/vnd.jupyter.widget-state+json": {
        "e293c55f8d2f4c448270c89457699044": {
          "model_module": "@jupyter-widgets/controls",
          "model_name": "HBoxModel",
          "model_module_version": "1.5.0",
          "state": {
            "_dom_classes": [],
            "_model_module": "@jupyter-widgets/controls",
            "_model_module_version": "1.5.0",
            "_model_name": "HBoxModel",
            "_view_count": null,
            "_view_module": "@jupyter-widgets/controls",
            "_view_module_version": "1.5.0",
            "_view_name": "HBoxView",
            "box_style": "",
            "children": [
              "IPY_MODEL_a23052ae4cf84ac08d9a40670eb0aa9c",
              "IPY_MODEL_41caf795deda4e439e462ec7b8862a22",
              "IPY_MODEL_4be7263bf5e4434bb5801a76db1ce9a2"
            ],
            "layout": "IPY_MODEL_ed1fa8992f8a48dfa5a4f79ca91d783d"
          }
        },
        "a23052ae4cf84ac08d9a40670eb0aa9c": {
          "model_module": "@jupyter-widgets/controls",
          "model_name": "HTMLModel",
          "model_module_version": "1.5.0",
          "state": {
            "_dom_classes": [],
            "_model_module": "@jupyter-widgets/controls",
            "_model_module_version": "1.5.0",
            "_model_name": "HTMLModel",
            "_view_count": null,
            "_view_module": "@jupyter-widgets/controls",
            "_view_module_version": "1.5.0",
            "_view_name": "HTMLView",
            "description": "",
            "description_tooltip": null,
            "layout": "IPY_MODEL_9870e4ee34d440efb855a8d9f8fb235f",
            "placeholder": "​",
            "style": "IPY_MODEL_77077b7837634c5c96b23885153b253b",
            "value": "100%"
          }
        },
        "41caf795deda4e439e462ec7b8862a22": {
          "model_module": "@jupyter-widgets/controls",
          "model_name": "FloatProgressModel",
          "model_module_version": "1.5.0",
          "state": {
            "_dom_classes": [],
            "_model_module": "@jupyter-widgets/controls",
            "_model_module_version": "1.5.0",
            "_model_name": "FloatProgressModel",
            "_view_count": null,
            "_view_module": "@jupyter-widgets/controls",
            "_view_module_version": "1.5.0",
            "_view_name": "ProgressView",
            "bar_style": "success",
            "description": "",
            "description_tooltip": null,
            "layout": "IPY_MODEL_945442065bc74ea7bafcae54b4c59cab",
            "max": 9912422,
            "min": 0,
            "orientation": "horizontal",
            "style": "IPY_MODEL_1dd4fb1419954d74a601517c452e6533",
            "value": 9912422
          }
        },
        "4be7263bf5e4434bb5801a76db1ce9a2": {
          "model_module": "@jupyter-widgets/controls",
          "model_name": "HTMLModel",
          "model_module_version": "1.5.0",
          "state": {
            "_dom_classes": [],
            "_model_module": "@jupyter-widgets/controls",
            "_model_module_version": "1.5.0",
            "_model_name": "HTMLModel",
            "_view_count": null,
            "_view_module": "@jupyter-widgets/controls",
            "_view_module_version": "1.5.0",
            "_view_name": "HTMLView",
            "description": "",
            "description_tooltip": null,
            "layout": "IPY_MODEL_6eacd562bcee4abf807b62efa38160ee",
            "placeholder": "​",
            "style": "IPY_MODEL_57042dc2bb2a4e309bc07e84629c48b5",
            "value": " 9912422/9912422 [00:00&lt;00:00, 87460176.82it/s]"
          }
        },
        "ed1fa8992f8a48dfa5a4f79ca91d783d": {
          "model_module": "@jupyter-widgets/base",
          "model_name": "LayoutModel",
          "model_module_version": "1.2.0",
          "state": {
            "_model_module": "@jupyter-widgets/base",
            "_model_module_version": "1.2.0",
            "_model_name": "LayoutModel",
            "_view_count": null,
            "_view_module": "@jupyter-widgets/base",
            "_view_module_version": "1.2.0",
            "_view_name": "LayoutView",
            "align_content": null,
            "align_items": null,
            "align_self": null,
            "border": null,
            "bottom": null,
            "display": null,
            "flex": null,
            "flex_flow": null,
            "grid_area": null,
            "grid_auto_columns": null,
            "grid_auto_flow": null,
            "grid_auto_rows": null,
            "grid_column": null,
            "grid_gap": null,
            "grid_row": null,
            "grid_template_areas": null,
            "grid_template_columns": null,
            "grid_template_rows": null,
            "height": null,
            "justify_content": null,
            "justify_items": null,
            "left": null,
            "margin": null,
            "max_height": null,
            "max_width": null,
            "min_height": null,
            "min_width": null,
            "object_fit": null,
            "object_position": null,
            "order": null,
            "overflow": null,
            "overflow_x": null,
            "overflow_y": null,
            "padding": null,
            "right": null,
            "top": null,
            "visibility": null,
            "width": null
          }
        },
        "9870e4ee34d440efb855a8d9f8fb235f": {
          "model_module": "@jupyter-widgets/base",
          "model_name": "LayoutModel",
          "model_module_version": "1.2.0",
          "state": {
            "_model_module": "@jupyter-widgets/base",
            "_model_module_version": "1.2.0",
            "_model_name": "LayoutModel",
            "_view_count": null,
            "_view_module": "@jupyter-widgets/base",
            "_view_module_version": "1.2.0",
            "_view_name": "LayoutView",
            "align_content": null,
            "align_items": null,
            "align_self": null,
            "border": null,
            "bottom": null,
            "display": null,
            "flex": null,
            "flex_flow": null,
            "grid_area": null,
            "grid_auto_columns": null,
            "grid_auto_flow": null,
            "grid_auto_rows": null,
            "grid_column": null,
            "grid_gap": null,
            "grid_row": null,
            "grid_template_areas": null,
            "grid_template_columns": null,
            "grid_template_rows": null,
            "height": null,
            "justify_content": null,
            "justify_items": null,
            "left": null,
            "margin": null,
            "max_height": null,
            "max_width": null,
            "min_height": null,
            "min_width": null,
            "object_fit": null,
            "object_position": null,
            "order": null,
            "overflow": null,
            "overflow_x": null,
            "overflow_y": null,
            "padding": null,
            "right": null,
            "top": null,
            "visibility": null,
            "width": null
          }
        },
        "77077b7837634c5c96b23885153b253b": {
          "model_module": "@jupyter-widgets/controls",
          "model_name": "DescriptionStyleModel",
          "model_module_version": "1.5.0",
          "state": {
            "_model_module": "@jupyter-widgets/controls",
            "_model_module_version": "1.5.0",
            "_model_name": "DescriptionStyleModel",
            "_view_count": null,
            "_view_module": "@jupyter-widgets/base",
            "_view_module_version": "1.2.0",
            "_view_name": "StyleView",
            "description_width": ""
          }
        },
        "945442065bc74ea7bafcae54b4c59cab": {
          "model_module": "@jupyter-widgets/base",
          "model_name": "LayoutModel",
          "model_module_version": "1.2.0",
          "state": {
            "_model_module": "@jupyter-widgets/base",
            "_model_module_version": "1.2.0",
            "_model_name": "LayoutModel",
            "_view_count": null,
            "_view_module": "@jupyter-widgets/base",
            "_view_module_version": "1.2.0",
            "_view_name": "LayoutView",
            "align_content": null,
            "align_items": null,
            "align_self": null,
            "border": null,
            "bottom": null,
            "display": null,
            "flex": null,
            "flex_flow": null,
            "grid_area": null,
            "grid_auto_columns": null,
            "grid_auto_flow": null,
            "grid_auto_rows": null,
            "grid_column": null,
            "grid_gap": null,
            "grid_row": null,
            "grid_template_areas": null,
            "grid_template_columns": null,
            "grid_template_rows": null,
            "height": null,
            "justify_content": null,
            "justify_items": null,
            "left": null,
            "margin": null,
            "max_height": null,
            "max_width": null,
            "min_height": null,
            "min_width": null,
            "object_fit": null,
            "object_position": null,
            "order": null,
            "overflow": null,
            "overflow_x": null,
            "overflow_y": null,
            "padding": null,
            "right": null,
            "top": null,
            "visibility": null,
            "width": null
          }
        },
        "1dd4fb1419954d74a601517c452e6533": {
          "model_module": "@jupyter-widgets/controls",
          "model_name": "ProgressStyleModel",
          "model_module_version": "1.5.0",
          "state": {
            "_model_module": "@jupyter-widgets/controls",
            "_model_module_version": "1.5.0",
            "_model_name": "ProgressStyleModel",
            "_view_count": null,
            "_view_module": "@jupyter-widgets/base",
            "_view_module_version": "1.2.0",
            "_view_name": "StyleView",
            "bar_color": null,
            "description_width": ""
          }
        },
        "6eacd562bcee4abf807b62efa38160ee": {
          "model_module": "@jupyter-widgets/base",
          "model_name": "LayoutModel",
          "model_module_version": "1.2.0",
          "state": {
            "_model_module": "@jupyter-widgets/base",
            "_model_module_version": "1.2.0",
            "_model_name": "LayoutModel",
            "_view_count": null,
            "_view_module": "@jupyter-widgets/base",
            "_view_module_version": "1.2.0",
            "_view_name": "LayoutView",
            "align_content": null,
            "align_items": null,
            "align_self": null,
            "border": null,
            "bottom": null,
            "display": null,
            "flex": null,
            "flex_flow": null,
            "grid_area": null,
            "grid_auto_columns": null,
            "grid_auto_flow": null,
            "grid_auto_rows": null,
            "grid_column": null,
            "grid_gap": null,
            "grid_row": null,
            "grid_template_areas": null,
            "grid_template_columns": null,
            "grid_template_rows": null,
            "height": null,
            "justify_content": null,
            "justify_items": null,
            "left": null,
            "margin": null,
            "max_height": null,
            "max_width": null,
            "min_height": null,
            "min_width": null,
            "object_fit": null,
            "object_position": null,
            "order": null,
            "overflow": null,
            "overflow_x": null,
            "overflow_y": null,
            "padding": null,
            "right": null,
            "top": null,
            "visibility": null,
            "width": null
          }
        },
        "57042dc2bb2a4e309bc07e84629c48b5": {
          "model_module": "@jupyter-widgets/controls",
          "model_name": "DescriptionStyleModel",
          "model_module_version": "1.5.0",
          "state": {
            "_model_module": "@jupyter-widgets/controls",
            "_model_module_version": "1.5.0",
            "_model_name": "DescriptionStyleModel",
            "_view_count": null,
            "_view_module": "@jupyter-widgets/base",
            "_view_module_version": "1.2.0",
            "_view_name": "StyleView",
            "description_width": ""
          }
        },
        "d9205e371d9d4891953c840d63328b65": {
          "model_module": "@jupyter-widgets/controls",
          "model_name": "HBoxModel",
          "model_module_version": "1.5.0",
          "state": {
            "_dom_classes": [],
            "_model_module": "@jupyter-widgets/controls",
            "_model_module_version": "1.5.0",
            "_model_name": "HBoxModel",
            "_view_count": null,
            "_view_module": "@jupyter-widgets/controls",
            "_view_module_version": "1.5.0",
            "_view_name": "HBoxView",
            "box_style": "",
            "children": [
              "IPY_MODEL_4e4a1e41c49c403a8b1d576c913a8b02",
              "IPY_MODEL_d34da2430fc24eafb35589f11909a1ff",
              "IPY_MODEL_4e63b29bcf6d4193b8f9203cadb598f8"
            ],
            "layout": "IPY_MODEL_b99fbc68685b437e83a2d50236dc2811"
          }
        },
        "4e4a1e41c49c403a8b1d576c913a8b02": {
          "model_module": "@jupyter-widgets/controls",
          "model_name": "HTMLModel",
          "model_module_version": "1.5.0",
          "state": {
            "_dom_classes": [],
            "_model_module": "@jupyter-widgets/controls",
            "_model_module_version": "1.5.0",
            "_model_name": "HTMLModel",
            "_view_count": null,
            "_view_module": "@jupyter-widgets/controls",
            "_view_module_version": "1.5.0",
            "_view_name": "HTMLView",
            "description": "",
            "description_tooltip": null,
            "layout": "IPY_MODEL_96ddfcc15f2b4355930f63449902d738",
            "placeholder": "​",
            "style": "IPY_MODEL_d961f84a9e7b4b86a680c322b0a16bbb",
            "value": "100%"
          }
        },
        "d34da2430fc24eafb35589f11909a1ff": {
          "model_module": "@jupyter-widgets/controls",
          "model_name": "FloatProgressModel",
          "model_module_version": "1.5.0",
          "state": {
            "_dom_classes": [],
            "_model_module": "@jupyter-widgets/controls",
            "_model_module_version": "1.5.0",
            "_model_name": "FloatProgressModel",
            "_view_count": null,
            "_view_module": "@jupyter-widgets/controls",
            "_view_module_version": "1.5.0",
            "_view_name": "ProgressView",
            "bar_style": "success",
            "description": "",
            "description_tooltip": null,
            "layout": "IPY_MODEL_b28f44abb617458782f2d3c7f1e7a30e",
            "max": 28881,
            "min": 0,
            "orientation": "horizontal",
            "style": "IPY_MODEL_c15d9f2bc01f4d13b5dc94f04ca20b3c",
            "value": 28881
          }
        },
        "4e63b29bcf6d4193b8f9203cadb598f8": {
          "model_module": "@jupyter-widgets/controls",
          "model_name": "HTMLModel",
          "model_module_version": "1.5.0",
          "state": {
            "_dom_classes": [],
            "_model_module": "@jupyter-widgets/controls",
            "_model_module_version": "1.5.0",
            "_model_name": "HTMLModel",
            "_view_count": null,
            "_view_module": "@jupyter-widgets/controls",
            "_view_module_version": "1.5.0",
            "_view_name": "HTMLView",
            "description": "",
            "description_tooltip": null,
            "layout": "IPY_MODEL_b9973335eb35490a912f0272d37d5d0c",
            "placeholder": "​",
            "style": "IPY_MODEL_36c12a1f753648259f9c89c8e1370a36",
            "value": " 28881/28881 [00:00&lt;00:00, 924248.41it/s]"
          }
        },
        "b99fbc68685b437e83a2d50236dc2811": {
          "model_module": "@jupyter-widgets/base",
          "model_name": "LayoutModel",
          "model_module_version": "1.2.0",
          "state": {
            "_model_module": "@jupyter-widgets/base",
            "_model_module_version": "1.2.0",
            "_model_name": "LayoutModel",
            "_view_count": null,
            "_view_module": "@jupyter-widgets/base",
            "_view_module_version": "1.2.0",
            "_view_name": "LayoutView",
            "align_content": null,
            "align_items": null,
            "align_self": null,
            "border": null,
            "bottom": null,
            "display": null,
            "flex": null,
            "flex_flow": null,
            "grid_area": null,
            "grid_auto_columns": null,
            "grid_auto_flow": null,
            "grid_auto_rows": null,
            "grid_column": null,
            "grid_gap": null,
            "grid_row": null,
            "grid_template_areas": null,
            "grid_template_columns": null,
            "grid_template_rows": null,
            "height": null,
            "justify_content": null,
            "justify_items": null,
            "left": null,
            "margin": null,
            "max_height": null,
            "max_width": null,
            "min_height": null,
            "min_width": null,
            "object_fit": null,
            "object_position": null,
            "order": null,
            "overflow": null,
            "overflow_x": null,
            "overflow_y": null,
            "padding": null,
            "right": null,
            "top": null,
            "visibility": null,
            "width": null
          }
        },
        "96ddfcc15f2b4355930f63449902d738": {
          "model_module": "@jupyter-widgets/base",
          "model_name": "LayoutModel",
          "model_module_version": "1.2.0",
          "state": {
            "_model_module": "@jupyter-widgets/base",
            "_model_module_version": "1.2.0",
            "_model_name": "LayoutModel",
            "_view_count": null,
            "_view_module": "@jupyter-widgets/base",
            "_view_module_version": "1.2.0",
            "_view_name": "LayoutView",
            "align_content": null,
            "align_items": null,
            "align_self": null,
            "border": null,
            "bottom": null,
            "display": null,
            "flex": null,
            "flex_flow": null,
            "grid_area": null,
            "grid_auto_columns": null,
            "grid_auto_flow": null,
            "grid_auto_rows": null,
            "grid_column": null,
            "grid_gap": null,
            "grid_row": null,
            "grid_template_areas": null,
            "grid_template_columns": null,
            "grid_template_rows": null,
            "height": null,
            "justify_content": null,
            "justify_items": null,
            "left": null,
            "margin": null,
            "max_height": null,
            "max_width": null,
            "min_height": null,
            "min_width": null,
            "object_fit": null,
            "object_position": null,
            "order": null,
            "overflow": null,
            "overflow_x": null,
            "overflow_y": null,
            "padding": null,
            "right": null,
            "top": null,
            "visibility": null,
            "width": null
          }
        },
        "d961f84a9e7b4b86a680c322b0a16bbb": {
          "model_module": "@jupyter-widgets/controls",
          "model_name": "DescriptionStyleModel",
          "model_module_version": "1.5.0",
          "state": {
            "_model_module": "@jupyter-widgets/controls",
            "_model_module_version": "1.5.0",
            "_model_name": "DescriptionStyleModel",
            "_view_count": null,
            "_view_module": "@jupyter-widgets/base",
            "_view_module_version": "1.2.0",
            "_view_name": "StyleView",
            "description_width": ""
          }
        },
        "b28f44abb617458782f2d3c7f1e7a30e": {
          "model_module": "@jupyter-widgets/base",
          "model_name": "LayoutModel",
          "model_module_version": "1.2.0",
          "state": {
            "_model_module": "@jupyter-widgets/base",
            "_model_module_version": "1.2.0",
            "_model_name": "LayoutModel",
            "_view_count": null,
            "_view_module": "@jupyter-widgets/base",
            "_view_module_version": "1.2.0",
            "_view_name": "LayoutView",
            "align_content": null,
            "align_items": null,
            "align_self": null,
            "border": null,
            "bottom": null,
            "display": null,
            "flex": null,
            "flex_flow": null,
            "grid_area": null,
            "grid_auto_columns": null,
            "grid_auto_flow": null,
            "grid_auto_rows": null,
            "grid_column": null,
            "grid_gap": null,
            "grid_row": null,
            "grid_template_areas": null,
            "grid_template_columns": null,
            "grid_template_rows": null,
            "height": null,
            "justify_content": null,
            "justify_items": null,
            "left": null,
            "margin": null,
            "max_height": null,
            "max_width": null,
            "min_height": null,
            "min_width": null,
            "object_fit": null,
            "object_position": null,
            "order": null,
            "overflow": null,
            "overflow_x": null,
            "overflow_y": null,
            "padding": null,
            "right": null,
            "top": null,
            "visibility": null,
            "width": null
          }
        },
        "c15d9f2bc01f4d13b5dc94f04ca20b3c": {
          "model_module": "@jupyter-widgets/controls",
          "model_name": "ProgressStyleModel",
          "model_module_version": "1.5.0",
          "state": {
            "_model_module": "@jupyter-widgets/controls",
            "_model_module_version": "1.5.0",
            "_model_name": "ProgressStyleModel",
            "_view_count": null,
            "_view_module": "@jupyter-widgets/base",
            "_view_module_version": "1.2.0",
            "_view_name": "StyleView",
            "bar_color": null,
            "description_width": ""
          }
        },
        "b9973335eb35490a912f0272d37d5d0c": {
          "model_module": "@jupyter-widgets/base",
          "model_name": "LayoutModel",
          "model_module_version": "1.2.0",
          "state": {
            "_model_module": "@jupyter-widgets/base",
            "_model_module_version": "1.2.0",
            "_model_name": "LayoutModel",
            "_view_count": null,
            "_view_module": "@jupyter-widgets/base",
            "_view_module_version": "1.2.0",
            "_view_name": "LayoutView",
            "align_content": null,
            "align_items": null,
            "align_self": null,
            "border": null,
            "bottom": null,
            "display": null,
            "flex": null,
            "flex_flow": null,
            "grid_area": null,
            "grid_auto_columns": null,
            "grid_auto_flow": null,
            "grid_auto_rows": null,
            "grid_column": null,
            "grid_gap": null,
            "grid_row": null,
            "grid_template_areas": null,
            "grid_template_columns": null,
            "grid_template_rows": null,
            "height": null,
            "justify_content": null,
            "justify_items": null,
            "left": null,
            "margin": null,
            "max_height": null,
            "max_width": null,
            "min_height": null,
            "min_width": null,
            "object_fit": null,
            "object_position": null,
            "order": null,
            "overflow": null,
            "overflow_x": null,
            "overflow_y": null,
            "padding": null,
            "right": null,
            "top": null,
            "visibility": null,
            "width": null
          }
        },
        "36c12a1f753648259f9c89c8e1370a36": {
          "model_module": "@jupyter-widgets/controls",
          "model_name": "DescriptionStyleModel",
          "model_module_version": "1.5.0",
          "state": {
            "_model_module": "@jupyter-widgets/controls",
            "_model_module_version": "1.5.0",
            "_model_name": "DescriptionStyleModel",
            "_view_count": null,
            "_view_module": "@jupyter-widgets/base",
            "_view_module_version": "1.2.0",
            "_view_name": "StyleView",
            "description_width": ""
          }
        },
        "f087e9f303c144fd957a7df67a1399f0": {
          "model_module": "@jupyter-widgets/controls",
          "model_name": "HBoxModel",
          "model_module_version": "1.5.0",
          "state": {
            "_dom_classes": [],
            "_model_module": "@jupyter-widgets/controls",
            "_model_module_version": "1.5.0",
            "_model_name": "HBoxModel",
            "_view_count": null,
            "_view_module": "@jupyter-widgets/controls",
            "_view_module_version": "1.5.0",
            "_view_name": "HBoxView",
            "box_style": "",
            "children": [
              "IPY_MODEL_873fd54dbaf94190af3ad9f3edffa09e",
              "IPY_MODEL_d94317bf9bc64e11ab5e33db4a7081a4",
              "IPY_MODEL_8f98a22888c14974a6b93155d8ef36f4"
            ],
            "layout": "IPY_MODEL_b75a94b985ac4d96a518471e2d5cf592"
          }
        },
        "873fd54dbaf94190af3ad9f3edffa09e": {
          "model_module": "@jupyter-widgets/controls",
          "model_name": "HTMLModel",
          "model_module_version": "1.5.0",
          "state": {
            "_dom_classes": [],
            "_model_module": "@jupyter-widgets/controls",
            "_model_module_version": "1.5.0",
            "_model_name": "HTMLModel",
            "_view_count": null,
            "_view_module": "@jupyter-widgets/controls",
            "_view_module_version": "1.5.0",
            "_view_name": "HTMLView",
            "description": "",
            "description_tooltip": null,
            "layout": "IPY_MODEL_703c602fbbb84d33bfdd2679fa1b4e7b",
            "placeholder": "​",
            "style": "IPY_MODEL_724d45c8fb77485fb38c3fb0e1fd37a7",
            "value": "100%"
          }
        },
        "d94317bf9bc64e11ab5e33db4a7081a4": {
          "model_module": "@jupyter-widgets/controls",
          "model_name": "FloatProgressModel",
          "model_module_version": "1.5.0",
          "state": {
            "_dom_classes": [],
            "_model_module": "@jupyter-widgets/controls",
            "_model_module_version": "1.5.0",
            "_model_name": "FloatProgressModel",
            "_view_count": null,
            "_view_module": "@jupyter-widgets/controls",
            "_view_module_version": "1.5.0",
            "_view_name": "ProgressView",
            "bar_style": "success",
            "description": "",
            "description_tooltip": null,
            "layout": "IPY_MODEL_7c87690280c943e0bfc290cb294675d1",
            "max": 1648877,
            "min": 0,
            "orientation": "horizontal",
            "style": "IPY_MODEL_c427837dadd646278c187554b8d64a9a",
            "value": 1648877
          }
        },
        "8f98a22888c14974a6b93155d8ef36f4": {
          "model_module": "@jupyter-widgets/controls",
          "model_name": "HTMLModel",
          "model_module_version": "1.5.0",
          "state": {
            "_dom_classes": [],
            "_model_module": "@jupyter-widgets/controls",
            "_model_module_version": "1.5.0",
            "_model_name": "HTMLModel",
            "_view_count": null,
            "_view_module": "@jupyter-widgets/controls",
            "_view_module_version": "1.5.0",
            "_view_name": "HTMLView",
            "description": "",
            "description_tooltip": null,
            "layout": "IPY_MODEL_96b7132c81e641c4830285b19df2c39c",
            "placeholder": "​",
            "style": "IPY_MODEL_2110733687a54195b5dfe8fb1accf97d",
            "value": " 1648877/1648877 [00:00&lt;00:00, 26762524.90it/s]"
          }
        },
        "b75a94b985ac4d96a518471e2d5cf592": {
          "model_module": "@jupyter-widgets/base",
          "model_name": "LayoutModel",
          "model_module_version": "1.2.0",
          "state": {
            "_model_module": "@jupyter-widgets/base",
            "_model_module_version": "1.2.0",
            "_model_name": "LayoutModel",
            "_view_count": null,
            "_view_module": "@jupyter-widgets/base",
            "_view_module_version": "1.2.0",
            "_view_name": "LayoutView",
            "align_content": null,
            "align_items": null,
            "align_self": null,
            "border": null,
            "bottom": null,
            "display": null,
            "flex": null,
            "flex_flow": null,
            "grid_area": null,
            "grid_auto_columns": null,
            "grid_auto_flow": null,
            "grid_auto_rows": null,
            "grid_column": null,
            "grid_gap": null,
            "grid_row": null,
            "grid_template_areas": null,
            "grid_template_columns": null,
            "grid_template_rows": null,
            "height": null,
            "justify_content": null,
            "justify_items": null,
            "left": null,
            "margin": null,
            "max_height": null,
            "max_width": null,
            "min_height": null,
            "min_width": null,
            "object_fit": null,
            "object_position": null,
            "order": null,
            "overflow": null,
            "overflow_x": null,
            "overflow_y": null,
            "padding": null,
            "right": null,
            "top": null,
            "visibility": null,
            "width": null
          }
        },
        "703c602fbbb84d33bfdd2679fa1b4e7b": {
          "model_module": "@jupyter-widgets/base",
          "model_name": "LayoutModel",
          "model_module_version": "1.2.0",
          "state": {
            "_model_module": "@jupyter-widgets/base",
            "_model_module_version": "1.2.0",
            "_model_name": "LayoutModel",
            "_view_count": null,
            "_view_module": "@jupyter-widgets/base",
            "_view_module_version": "1.2.0",
            "_view_name": "LayoutView",
            "align_content": null,
            "align_items": null,
            "align_self": null,
            "border": null,
            "bottom": null,
            "display": null,
            "flex": null,
            "flex_flow": null,
            "grid_area": null,
            "grid_auto_columns": null,
            "grid_auto_flow": null,
            "grid_auto_rows": null,
            "grid_column": null,
            "grid_gap": null,
            "grid_row": null,
            "grid_template_areas": null,
            "grid_template_columns": null,
            "grid_template_rows": null,
            "height": null,
            "justify_content": null,
            "justify_items": null,
            "left": null,
            "margin": null,
            "max_height": null,
            "max_width": null,
            "min_height": null,
            "min_width": null,
            "object_fit": null,
            "object_position": null,
            "order": null,
            "overflow": null,
            "overflow_x": null,
            "overflow_y": null,
            "padding": null,
            "right": null,
            "top": null,
            "visibility": null,
            "width": null
          }
        },
        "724d45c8fb77485fb38c3fb0e1fd37a7": {
          "model_module": "@jupyter-widgets/controls",
          "model_name": "DescriptionStyleModel",
          "model_module_version": "1.5.0",
          "state": {
            "_model_module": "@jupyter-widgets/controls",
            "_model_module_version": "1.5.0",
            "_model_name": "DescriptionStyleModel",
            "_view_count": null,
            "_view_module": "@jupyter-widgets/base",
            "_view_module_version": "1.2.0",
            "_view_name": "StyleView",
            "description_width": ""
          }
        },
        "7c87690280c943e0bfc290cb294675d1": {
          "model_module": "@jupyter-widgets/base",
          "model_name": "LayoutModel",
          "model_module_version": "1.2.0",
          "state": {
            "_model_module": "@jupyter-widgets/base",
            "_model_module_version": "1.2.0",
            "_model_name": "LayoutModel",
            "_view_count": null,
            "_view_module": "@jupyter-widgets/base",
            "_view_module_version": "1.2.0",
            "_view_name": "LayoutView",
            "align_content": null,
            "align_items": null,
            "align_self": null,
            "border": null,
            "bottom": null,
            "display": null,
            "flex": null,
            "flex_flow": null,
            "grid_area": null,
            "grid_auto_columns": null,
            "grid_auto_flow": null,
            "grid_auto_rows": null,
            "grid_column": null,
            "grid_gap": null,
            "grid_row": null,
            "grid_template_areas": null,
            "grid_template_columns": null,
            "grid_template_rows": null,
            "height": null,
            "justify_content": null,
            "justify_items": null,
            "left": null,
            "margin": null,
            "max_height": null,
            "max_width": null,
            "min_height": null,
            "min_width": null,
            "object_fit": null,
            "object_position": null,
            "order": null,
            "overflow": null,
            "overflow_x": null,
            "overflow_y": null,
            "padding": null,
            "right": null,
            "top": null,
            "visibility": null,
            "width": null
          }
        },
        "c427837dadd646278c187554b8d64a9a": {
          "model_module": "@jupyter-widgets/controls",
          "model_name": "ProgressStyleModel",
          "model_module_version": "1.5.0",
          "state": {
            "_model_module": "@jupyter-widgets/controls",
            "_model_module_version": "1.5.0",
            "_model_name": "ProgressStyleModel",
            "_view_count": null,
            "_view_module": "@jupyter-widgets/base",
            "_view_module_version": "1.2.0",
            "_view_name": "StyleView",
            "bar_color": null,
            "description_width": ""
          }
        },
        "96b7132c81e641c4830285b19df2c39c": {
          "model_module": "@jupyter-widgets/base",
          "model_name": "LayoutModel",
          "model_module_version": "1.2.0",
          "state": {
            "_model_module": "@jupyter-widgets/base",
            "_model_module_version": "1.2.0",
            "_model_name": "LayoutModel",
            "_view_count": null,
            "_view_module": "@jupyter-widgets/base",
            "_view_module_version": "1.2.0",
            "_view_name": "LayoutView",
            "align_content": null,
            "align_items": null,
            "align_self": null,
            "border": null,
            "bottom": null,
            "display": null,
            "flex": null,
            "flex_flow": null,
            "grid_area": null,
            "grid_auto_columns": null,
            "grid_auto_flow": null,
            "grid_auto_rows": null,
            "grid_column": null,
            "grid_gap": null,
            "grid_row": null,
            "grid_template_areas": null,
            "grid_template_columns": null,
            "grid_template_rows": null,
            "height": null,
            "justify_content": null,
            "justify_items": null,
            "left": null,
            "margin": null,
            "max_height": null,
            "max_width": null,
            "min_height": null,
            "min_width": null,
            "object_fit": null,
            "object_position": null,
            "order": null,
            "overflow": null,
            "overflow_x": null,
            "overflow_y": null,
            "padding": null,
            "right": null,
            "top": null,
            "visibility": null,
            "width": null
          }
        },
        "2110733687a54195b5dfe8fb1accf97d": {
          "model_module": "@jupyter-widgets/controls",
          "model_name": "DescriptionStyleModel",
          "model_module_version": "1.5.0",
          "state": {
            "_model_module": "@jupyter-widgets/controls",
            "_model_module_version": "1.5.0",
            "_model_name": "DescriptionStyleModel",
            "_view_count": null,
            "_view_module": "@jupyter-widgets/base",
            "_view_module_version": "1.2.0",
            "_view_name": "StyleView",
            "description_width": ""
          }
        },
        "1a5226c4fd764172b6b566e084ded32e": {
          "model_module": "@jupyter-widgets/controls",
          "model_name": "HBoxModel",
          "model_module_version": "1.5.0",
          "state": {
            "_dom_classes": [],
            "_model_module": "@jupyter-widgets/controls",
            "_model_module_version": "1.5.0",
            "_model_name": "HBoxModel",
            "_view_count": null,
            "_view_module": "@jupyter-widgets/controls",
            "_view_module_version": "1.5.0",
            "_view_name": "HBoxView",
            "box_style": "",
            "children": [
              "IPY_MODEL_f20ea5252d35419bad663fa7eb46ece3",
              "IPY_MODEL_a13811f0f55041b282d121113df99211",
              "IPY_MODEL_1dd5405bd8954036b362a3cfe99fa839"
            ],
            "layout": "IPY_MODEL_6f516d0a55004dc7bdcd58ed299eae5b"
          }
        },
        "f20ea5252d35419bad663fa7eb46ece3": {
          "model_module": "@jupyter-widgets/controls",
          "model_name": "HTMLModel",
          "model_module_version": "1.5.0",
          "state": {
            "_dom_classes": [],
            "_model_module": "@jupyter-widgets/controls",
            "_model_module_version": "1.5.0",
            "_model_name": "HTMLModel",
            "_view_count": null,
            "_view_module": "@jupyter-widgets/controls",
            "_view_module_version": "1.5.0",
            "_view_name": "HTMLView",
            "description": "",
            "description_tooltip": null,
            "layout": "IPY_MODEL_622d814ef1164b9daea40f379716d9aa",
            "placeholder": "​",
            "style": "IPY_MODEL_04bbfda3f95749cd96fe0c00bc0ed703",
            "value": "100%"
          }
        },
        "a13811f0f55041b282d121113df99211": {
          "model_module": "@jupyter-widgets/controls",
          "model_name": "FloatProgressModel",
          "model_module_version": "1.5.0",
          "state": {
            "_dom_classes": [],
            "_model_module": "@jupyter-widgets/controls",
            "_model_module_version": "1.5.0",
            "_model_name": "FloatProgressModel",
            "_view_count": null,
            "_view_module": "@jupyter-widgets/controls",
            "_view_module_version": "1.5.0",
            "_view_name": "ProgressView",
            "bar_style": "success",
            "description": "",
            "description_tooltip": null,
            "layout": "IPY_MODEL_54d06affe0c14c408889fd5a6cb60180",
            "max": 4542,
            "min": 0,
            "orientation": "horizontal",
            "style": "IPY_MODEL_fb2c5c4086e44d2ea898abf8d611af06",
            "value": 4542
          }
        },
        "1dd5405bd8954036b362a3cfe99fa839": {
          "model_module": "@jupyter-widgets/controls",
          "model_name": "HTMLModel",
          "model_module_version": "1.5.0",
          "state": {
            "_dom_classes": [],
            "_model_module": "@jupyter-widgets/controls",
            "_model_module_version": "1.5.0",
            "_model_name": "HTMLModel",
            "_view_count": null,
            "_view_module": "@jupyter-widgets/controls",
            "_view_module_version": "1.5.0",
            "_view_name": "HTMLView",
            "description": "",
            "description_tooltip": null,
            "layout": "IPY_MODEL_68008f72bf2242988ff81c5d5a79dcac",
            "placeholder": "​",
            "style": "IPY_MODEL_2112e05f7dfa4e828a3d0b2219b8f754",
            "value": " 4542/4542 [00:00&lt;00:00, 153128.22it/s]"
          }
        },
        "6f516d0a55004dc7bdcd58ed299eae5b": {
          "model_module": "@jupyter-widgets/base",
          "model_name": "LayoutModel",
          "model_module_version": "1.2.0",
          "state": {
            "_model_module": "@jupyter-widgets/base",
            "_model_module_version": "1.2.0",
            "_model_name": "LayoutModel",
            "_view_count": null,
            "_view_module": "@jupyter-widgets/base",
            "_view_module_version": "1.2.0",
            "_view_name": "LayoutView",
            "align_content": null,
            "align_items": null,
            "align_self": null,
            "border": null,
            "bottom": null,
            "display": null,
            "flex": null,
            "flex_flow": null,
            "grid_area": null,
            "grid_auto_columns": null,
            "grid_auto_flow": null,
            "grid_auto_rows": null,
            "grid_column": null,
            "grid_gap": null,
            "grid_row": null,
            "grid_template_areas": null,
            "grid_template_columns": null,
            "grid_template_rows": null,
            "height": null,
            "justify_content": null,
            "justify_items": null,
            "left": null,
            "margin": null,
            "max_height": null,
            "max_width": null,
            "min_height": null,
            "min_width": null,
            "object_fit": null,
            "object_position": null,
            "order": null,
            "overflow": null,
            "overflow_x": null,
            "overflow_y": null,
            "padding": null,
            "right": null,
            "top": null,
            "visibility": null,
            "width": null
          }
        },
        "622d814ef1164b9daea40f379716d9aa": {
          "model_module": "@jupyter-widgets/base",
          "model_name": "LayoutModel",
          "model_module_version": "1.2.0",
          "state": {
            "_model_module": "@jupyter-widgets/base",
            "_model_module_version": "1.2.0",
            "_model_name": "LayoutModel",
            "_view_count": null,
            "_view_module": "@jupyter-widgets/base",
            "_view_module_version": "1.2.0",
            "_view_name": "LayoutView",
            "align_content": null,
            "align_items": null,
            "align_self": null,
            "border": null,
            "bottom": null,
            "display": null,
            "flex": null,
            "flex_flow": null,
            "grid_area": null,
            "grid_auto_columns": null,
            "grid_auto_flow": null,
            "grid_auto_rows": null,
            "grid_column": null,
            "grid_gap": null,
            "grid_row": null,
            "grid_template_areas": null,
            "grid_template_columns": null,
            "grid_template_rows": null,
            "height": null,
            "justify_content": null,
            "justify_items": null,
            "left": null,
            "margin": null,
            "max_height": null,
            "max_width": null,
            "min_height": null,
            "min_width": null,
            "object_fit": null,
            "object_position": null,
            "order": null,
            "overflow": null,
            "overflow_x": null,
            "overflow_y": null,
            "padding": null,
            "right": null,
            "top": null,
            "visibility": null,
            "width": null
          }
        },
        "04bbfda3f95749cd96fe0c00bc0ed703": {
          "model_module": "@jupyter-widgets/controls",
          "model_name": "DescriptionStyleModel",
          "model_module_version": "1.5.0",
          "state": {
            "_model_module": "@jupyter-widgets/controls",
            "_model_module_version": "1.5.0",
            "_model_name": "DescriptionStyleModel",
            "_view_count": null,
            "_view_module": "@jupyter-widgets/base",
            "_view_module_version": "1.2.0",
            "_view_name": "StyleView",
            "description_width": ""
          }
        },
        "54d06affe0c14c408889fd5a6cb60180": {
          "model_module": "@jupyter-widgets/base",
          "model_name": "LayoutModel",
          "model_module_version": "1.2.0",
          "state": {
            "_model_module": "@jupyter-widgets/base",
            "_model_module_version": "1.2.0",
            "_model_name": "LayoutModel",
            "_view_count": null,
            "_view_module": "@jupyter-widgets/base",
            "_view_module_version": "1.2.0",
            "_view_name": "LayoutView",
            "align_content": null,
            "align_items": null,
            "align_self": null,
            "border": null,
            "bottom": null,
            "display": null,
            "flex": null,
            "flex_flow": null,
            "grid_area": null,
            "grid_auto_columns": null,
            "grid_auto_flow": null,
            "grid_auto_rows": null,
            "grid_column": null,
            "grid_gap": null,
            "grid_row": null,
            "grid_template_areas": null,
            "grid_template_columns": null,
            "grid_template_rows": null,
            "height": null,
            "justify_content": null,
            "justify_items": null,
            "left": null,
            "margin": null,
            "max_height": null,
            "max_width": null,
            "min_height": null,
            "min_width": null,
            "object_fit": null,
            "object_position": null,
            "order": null,
            "overflow": null,
            "overflow_x": null,
            "overflow_y": null,
            "padding": null,
            "right": null,
            "top": null,
            "visibility": null,
            "width": null
          }
        },
        "fb2c5c4086e44d2ea898abf8d611af06": {
          "model_module": "@jupyter-widgets/controls",
          "model_name": "ProgressStyleModel",
          "model_module_version": "1.5.0",
          "state": {
            "_model_module": "@jupyter-widgets/controls",
            "_model_module_version": "1.5.0",
            "_model_name": "ProgressStyleModel",
            "_view_count": null,
            "_view_module": "@jupyter-widgets/base",
            "_view_module_version": "1.2.0",
            "_view_name": "StyleView",
            "bar_color": null,
            "description_width": ""
          }
        },
        "68008f72bf2242988ff81c5d5a79dcac": {
          "model_module": "@jupyter-widgets/base",
          "model_name": "LayoutModel",
          "model_module_version": "1.2.0",
          "state": {
            "_model_module": "@jupyter-widgets/base",
            "_model_module_version": "1.2.0",
            "_model_name": "LayoutModel",
            "_view_count": null,
            "_view_module": "@jupyter-widgets/base",
            "_view_module_version": "1.2.0",
            "_view_name": "LayoutView",
            "align_content": null,
            "align_items": null,
            "align_self": null,
            "border": null,
            "bottom": null,
            "display": null,
            "flex": null,
            "flex_flow": null,
            "grid_area": null,
            "grid_auto_columns": null,
            "grid_auto_flow": null,
            "grid_auto_rows": null,
            "grid_column": null,
            "grid_gap": null,
            "grid_row": null,
            "grid_template_areas": null,
            "grid_template_columns": null,
            "grid_template_rows": null,
            "height": null,
            "justify_content": null,
            "justify_items": null,
            "left": null,
            "margin": null,
            "max_height": null,
            "max_width": null,
            "min_height": null,
            "min_width": null,
            "object_fit": null,
            "object_position": null,
            "order": null,
            "overflow": null,
            "overflow_x": null,
            "overflow_y": null,
            "padding": null,
            "right": null,
            "top": null,
            "visibility": null,
            "width": null
          }
        },
        "2112e05f7dfa4e828a3d0b2219b8f754": {
          "model_module": "@jupyter-widgets/controls",
          "model_name": "DescriptionStyleModel",
          "model_module_version": "1.5.0",
          "state": {
            "_model_module": "@jupyter-widgets/controls",
            "_model_module_version": "1.5.0",
            "_model_name": "DescriptionStyleModel",
            "_view_count": null,
            "_view_module": "@jupyter-widgets/base",
            "_view_module_version": "1.2.0",
            "_view_name": "StyleView",
            "description_width": ""
          }
        }
      }
    }
  },
  "nbformat": 4,
  "nbformat_minor": 0
}